{
 "cells": [
  {
   "cell_type": "code",
   "execution_count": 1,
   "metadata": {},
   "outputs": [
    {
     "name": "stdout",
     "output_type": "stream",
     "text": [
      "Hello World\n"
     ]
    }
   ],
   "source": [
    "print('Hello World')"
   ]
  },
  {
   "cell_type": "code",
   "execution_count": 2,
   "metadata": {},
   "outputs": [
    {
     "name": "stdout",
     "output_type": "stream",
     "text": [
      "1708.1\n"
     ]
    }
   ],
   "source": [
    "# Variables\n",
    "rent = 1200\n",
    "gas = 202.5\n",
    "groceries = 305.6\n",
    "total = rent+gas+groceries\n",
    "print(total)"
   ]
  },
  {
   "cell_type": "code",
   "execution_count": 3,
   "metadata": {},
   "outputs": [
    {
     "data": {
      "text/plain": [
       "'r'"
      ]
     },
     "execution_count": 3,
     "metadata": {},
     "output_type": "execute_result"
    }
   ],
   "source": [
    "# strings\n",
    "text = \"ice cream\"\n",
    "text[5]"
   ]
  },
  {
   "cell_type": "code",
   "execution_count": 4,
   "metadata": {},
   "outputs": [
    {
     "data": {
      "text/plain": [
       "['bread', 'pasta', 'fruits', 'veggies']"
      ]
     },
     "execution_count": 4,
     "metadata": {},
     "output_type": "execute_result"
    }
   ],
   "source": [
    "# Lists\n",
    "items = [\"bread\", \"pasta\", \"fruits\", \"veggies\"]\n",
    "items"
   ]
  },
  {
   "cell_type": "code",
   "execution_count": 5,
   "metadata": {},
   "outputs": [
    {
     "data": {
      "text/plain": [
       "['chips', 'pasta', 'fruits', 'veggies']"
      ]
     },
     "execution_count": 5,
     "metadata": {},
     "output_type": "execute_result"
    }
   ],
   "source": [
    "items[0]=\"chips\"\n",
    "items"
   ]
  },
  {
   "cell_type": "code",
   "execution_count": 6,
   "metadata": {},
   "outputs": [
    {
     "data": {
      "text/plain": [
       "['bread', 'butter', 'pasta', 'fruits', 'veggies']"
      ]
     },
     "execution_count": 6,
     "metadata": {},
     "output_type": "execute_result"
    }
   ],
   "source": [
    "items = [\"bread\", \"pasta\", \"fruits\", \"veggies\"]\n",
    "items.insert(1,\"butter\")\n",
    "items"
   ]
  },
  {
   "cell_type": "code",
   "execution_count": 7,
   "metadata": {},
   "outputs": [
    {
     "data": {
      "text/plain": [
       "['shampoo', 'soap']"
      ]
     },
     "execution_count": 7,
     "metadata": {},
     "output_type": "execute_result"
    }
   ],
   "source": [
    "bathroom = [\"shampoo\", \"soap\"]\n",
    "bathroom"
   ]
  },
  {
   "cell_type": "code",
   "execution_count": 8,
   "metadata": {},
   "outputs": [
    {
     "data": {
      "text/plain": [
       "['shampoo', 'soap', 'bread', 'butter', 'pasta', 'fruits', 'veggies']"
      ]
     },
     "execution_count": 8,
     "metadata": {},
     "output_type": "execute_result"
    }
   ],
   "source": [
    "all_items = bathroom + items\n",
    "all_items"
   ]
  },
  {
   "cell_type": "code",
   "execution_count": 9,
   "metadata": {},
   "outputs": [
    {
     "data": {
      "text/plain": [
       "True"
      ]
     },
     "execution_count": 9,
     "metadata": {},
     "output_type": "execute_result"
    }
   ],
   "source": [
    "\"bread\" in items # Use 'in' for boolean output"
   ]
  },
  {
   "cell_type": "code",
   "execution_count": 10,
   "metadata": {},
   "outputs": [
    {
     "name": "stdout",
     "output_type": "stream",
     "text": [
      "Hello World!\n"
     ]
    }
   ],
   "source": [
    "print(\"Hello World!\")"
   ]
  },
  {
   "cell_type": "code",
   "execution_count": 11,
   "metadata": {},
   "outputs": [
    {
     "name": "stdout",
     "output_type": "stream",
     "text": [
      "number is even\n"
     ]
    }
   ],
   "source": [
    "# If Statements\n",
    "num = int(input(\"Enter a number: \"))\n",
    "if num%2 == 0:\n",
    "    print(\"number is even\")\n",
    "else:\n",
    "    print(\"number is odd\")\n"
   ]
  },
  {
   "cell_type": "markdown",
   "metadata": {},
   "source": [
    "### Ques. Write a program that asks user to enter dish name and it should print which cuisine is that dish."
   ]
  },
  {
   "cell_type": "code",
   "execution_count": 12,
   "metadata": {},
   "outputs": [
    {
     "name": "stdout",
     "output_type": "stream",
     "text": [
      "['Sushi', 'Sake', 'Hamburgurger', 'Pizza', 'Dal Fry', 'Butter Paneer Masala']\n",
      "The dish is Japanese\n"
     ]
    }
   ],
   "source": [
    "Japanese = [\"Sushi\", \"Sake\"]\n",
    "Indian = [\"Dal Fry\", \"Butter Paneer Masala\"]\n",
    "American = [\"Hamburgurger\", \"Pizza\"]\n",
    "print(Japanese + American + Indian)\n",
    "dish = input(\"Enter the name of the dish: \")# Takes the input as the name of the dish\n",
    "if dish in Japanese:\n",
    "    print(\"The dish is Japanese\")\n",
    "elif dish in Indian:\n",
    "    print(\"The dish is of Indian Cuisine\")\n",
    "else:\n",
    "    print(\"The dish is American\")"
   ]
  },
  {
   "cell_type": "code",
   "execution_count": 13,
   "metadata": {},
   "outputs": [
    {
     "name": "stdout",
     "output_type": "stream",
     "text": [
      "13020\n"
     ]
    }
   ],
   "source": [
    "# For Loop\n",
    "exp = [2340, 2500, 2100, 3100, 2980]\n",
    "total = 0\n",
    "for item in exp:\n",
    "    total = total + item\n",
    "print(total)"
   ]
  },
  {
   "cell_type": "code",
   "execution_count": 14,
   "metadata": {},
   "outputs": [
    {
     "name": "stdout",
     "output_type": "stream",
     "text": [
      "1\n",
      "3\n",
      "5\n",
      "7\n",
      "9\n"
     ]
    }
   ],
   "source": [
    "for i in range(1, 11, 2):\n",
    "    print(i)"
   ]
  },
  {
   "cell_type": "code",
   "execution_count": 15,
   "metadata": {},
   "outputs": [
    {
     "name": "stdout",
     "output_type": "stream",
     "text": [
      "Month:  1 Expense: 2340\n",
      "Month:  2 Expense: 2500\n",
      "Month:  3 Expense: 2100\n",
      "Month:  4 Expense: 3100\n",
      "Month:  5 Expense: 2980\n",
      "Total expense is:  13020\n"
     ]
    }
   ],
   "source": [
    "exp = [2340, 2500, 2100, 3100, 2980]\n",
    "total = 0\n",
    "for i in range(len(exp)):\n",
    "    print(\"Month: \", i+1, \"Expense:\", exp[i])\n",
    "    total = total + exp[i]\n",
    "print(\"Total expense is: \", total)\n",
    "    "
   ]
  },
  {
   "cell_type": "markdown",
   "metadata": {},
   "source": [
    "### Ques. Search for lost car key in home and when found stop searching."
   ]
  },
  {
   "cell_type": "code",
   "execution_count": 16,
   "metadata": {},
   "outputs": [
    {
     "name": "stdout",
     "output_type": "stream",
     "text": [
      "key is not found in garage\n",
      "key is not found in living room\n",
      "key is found in, chair\n"
     ]
    }
   ],
   "source": [
    "place = \"chair\"\n",
    "locations = [\"garage\", \"living room\", \"chair\", \"closet\"]\n",
    "for i in locations:\n",
    "    if i == place:\n",
    "        print(\"key is found in,\", i)\n",
    "        break\n",
    "    else:\n",
    "        print(\"key is not found in\", i)\n",
    "\n"
   ]
  },
  {
   "cell_type": "code",
   "execution_count": 17,
   "metadata": {},
   "outputs": [
    {
     "name": "stdout",
     "output_type": "stream",
     "text": [
      "1\n",
      "9\n",
      "25\n"
     ]
    }
   ],
   "source": [
    "for i in range(1,6):\n",
    "    if i%2==0:\n",
    "        continue\n",
    "    print(i*i)"
   ]
  },
  {
   "cell_type": "code",
   "execution_count": 18,
   "metadata": {},
   "outputs": [],
   "source": [
    "# Dictionaries and Tuples\n",
    "# an ungrouped collection of data.\n",
    "d = {\"tom\": 732678980, \"rob\": 4968049896, \"joe\": 64646464363456}\n"
   ]
  },
  {
   "cell_type": "code",
   "execution_count": 19,
   "metadata": {},
   "outputs": [
    {
     "data": {
      "text/plain": [
       "{'tom': 732678980, 'rob': 4968049896, 'joe': 64646464363456}"
      ]
     },
     "execution_count": 19,
     "metadata": {},
     "output_type": "execute_result"
    }
   ],
   "source": [
    "d"
   ]
  },
  {
   "cell_type": "code",
   "execution_count": 20,
   "metadata": {},
   "outputs": [
    {
     "name": "stdout",
     "output_type": "stream",
     "text": [
      "key: tom 732678980\n",
      "key: rob 4968049896\n",
      "key: joe 64646464363456\n"
     ]
    }
   ],
   "source": [
    "for i in d:\n",
    "    print(\"key:\", i, d[i])"
   ]
  },
  {
   "cell_type": "code",
   "execution_count": 21,
   "metadata": {},
   "outputs": [
    {
     "data": {
      "text/plain": [
       "['AbstractContextManager',\n",
       " 'Annotation',\n",
       " 'Arrow',\n",
       " 'Artist',\n",
       " 'AutoLocator',\n",
       " 'Axes',\n",
       " 'Button',\n",
       " 'Circle',\n",
       " 'Enum',\n",
       " 'ExitStack',\n",
       " 'Figure',\n",
       " 'FigureBase',\n",
       " 'FigureCanvasBase',\n",
       " 'FigureManagerBase',\n",
       " 'FixedFormatter',\n",
       " 'FixedLocator',\n",
       " 'FormatStrFormatter',\n",
       " 'Formatter',\n",
       " 'FuncFormatter',\n",
       " 'GridSpec',\n",
       " 'IndexLocator',\n",
       " 'Line2D',\n",
       " 'LinearLocator',\n",
       " 'Locator',\n",
       " 'LogFormatter',\n",
       " 'LogFormatterExponent',\n",
       " 'LogFormatterMathtext',\n",
       " 'LogLocator',\n",
       " 'MaxNLocator',\n",
       " 'MouseButton',\n",
       " 'MultipleLocator',\n",
       " 'Normalize',\n",
       " 'NullFormatter',\n",
       " 'NullLocator',\n",
       " 'PolarAxes',\n",
       " 'Polygon',\n",
       " 'Rectangle',\n",
       " 'ScalarFormatter',\n",
       " 'Slider',\n",
       " 'Subplot',\n",
       " 'SubplotSpec',\n",
       " 'TYPE_CHECKING',\n",
       " 'Text',\n",
       " 'TickHelper',\n",
       " 'Widget',\n",
       " '_REPL_DISPLAYHOOK',\n",
       " '_ReplDisplayHook',\n",
       " '__annotations__',\n",
       " '__builtins__',\n",
       " '__cached__',\n",
       " '__doc__',\n",
       " '__file__',\n",
       " '__loader__',\n",
       " '__name__',\n",
       " '__package__',\n",
       " '__spec__',\n",
       " '_api',\n",
       " '_auto_draw_if_interactive',\n",
       " '_backend_mod',\n",
       " '_color_sequences',\n",
       " '_colormaps',\n",
       " '_copy_docstring_and_deprecators',\n",
       " '_docstring',\n",
       " '_draw_all_if_interactive',\n",
       " '_get_backend_mod',\n",
       " '_get_pyplot_commands',\n",
       " '_log',\n",
       " '_pylab_helpers',\n",
       " '_warn_if_gui_out_of_main_thread',\n",
       " 'acorr',\n",
       " 'angle_spectrum',\n",
       " 'annotate',\n",
       " 'annotations',\n",
       " 'arrow',\n",
       " 'autoscale',\n",
       " 'autumn',\n",
       " 'axes',\n",
       " 'axhline',\n",
       " 'axhspan',\n",
       " 'axis',\n",
       " 'axline',\n",
       " 'axvline',\n",
       " 'axvspan',\n",
       " 'bar',\n",
       " 'bar_label',\n",
       " 'barbs',\n",
       " 'barh',\n",
       " 'bone',\n",
       " 'box',\n",
       " 'boxplot',\n",
       " 'broken_barh',\n",
       " 'cast',\n",
       " 'cbook',\n",
       " 'cla',\n",
       " 'clabel',\n",
       " 'clf',\n",
       " 'clim',\n",
       " 'close',\n",
       " 'cm',\n",
       " 'cohere',\n",
       " 'color_sequences',\n",
       " 'colorbar',\n",
       " 'colormaps',\n",
       " 'connect',\n",
       " 'contour',\n",
       " 'contourf',\n",
       " 'cool',\n",
       " 'copper',\n",
       " 'csd',\n",
       " 'cycler',\n",
       " 'delaxes',\n",
       " 'disconnect',\n",
       " 'draw',\n",
       " 'draw_all',\n",
       " 'draw_if_interactive',\n",
       " 'ecdf',\n",
       " 'errorbar',\n",
       " 'eventplot',\n",
       " 'figaspect',\n",
       " 'figimage',\n",
       " 'figlegend',\n",
       " 'fignum_exists',\n",
       " 'figtext',\n",
       " 'figure',\n",
       " 'fill',\n",
       " 'fill_between',\n",
       " 'fill_betweenx',\n",
       " 'findobj',\n",
       " 'flag',\n",
       " 'functools',\n",
       " 'gca',\n",
       " 'gcf',\n",
       " 'gci',\n",
       " 'get',\n",
       " 'get_backend',\n",
       " 'get_cmap',\n",
       " 'get_current_fig_manager',\n",
       " 'get_figlabels',\n",
       " 'get_fignums',\n",
       " 'get_plot_commands',\n",
       " 'get_scale_names',\n",
       " 'getp',\n",
       " 'ginput',\n",
       " 'gray',\n",
       " 'grid',\n",
       " 'hexbin',\n",
       " 'hist',\n",
       " 'hist2d',\n",
       " 'hlines',\n",
       " 'hot',\n",
       " 'hsv',\n",
       " 'importlib',\n",
       " 'imread',\n",
       " 'imsave',\n",
       " 'imshow',\n",
       " 'inferno',\n",
       " 'inspect',\n",
       " 'install_repl_displayhook',\n",
       " 'interactive',\n",
       " 'ioff',\n",
       " 'ion',\n",
       " 'isinteractive',\n",
       " 'jet',\n",
       " 'legend',\n",
       " 'locator_params',\n",
       " 'logging',\n",
       " 'loglog',\n",
       " 'magma',\n",
       " 'magnitude_spectrum',\n",
       " 'margins',\n",
       " 'matplotlib',\n",
       " 'matshow',\n",
       " 'minorticks_off',\n",
       " 'minorticks_on',\n",
       " 'mlab',\n",
       " 'new_figure_manager',\n",
       " 'nipy_spectral',\n",
       " 'np',\n",
       " 'overload',\n",
       " 'pause',\n",
       " 'pcolor',\n",
       " 'pcolormesh',\n",
       " 'phase_spectrum',\n",
       " 'pie',\n",
       " 'pink',\n",
       " 'plasma',\n",
       " 'plot',\n",
       " 'plot_date',\n",
       " 'polar',\n",
       " 'prism',\n",
       " 'psd',\n",
       " 'quiver',\n",
       " 'quiverkey',\n",
       " 'rc',\n",
       " 'rcParams',\n",
       " 'rcParamsDefault',\n",
       " 'rcParamsOrig',\n",
       " 'rc_context',\n",
       " 'rcdefaults',\n",
       " 'rcsetup',\n",
       " 're',\n",
       " 'register_cmap',\n",
       " 'rgrids',\n",
       " 'savefig',\n",
       " 'sca',\n",
       " 'scatter',\n",
       " 'sci',\n",
       " 'semilogx',\n",
       " 'semilogy',\n",
       " 'set_cmap',\n",
       " 'set_loglevel',\n",
       " 'setp',\n",
       " 'show',\n",
       " 'specgram',\n",
       " 'spring',\n",
       " 'spy',\n",
       " 'stackplot',\n",
       " 'stairs',\n",
       " 'stem',\n",
       " 'step',\n",
       " 'streamplot',\n",
       " 'style',\n",
       " 'subplot',\n",
       " 'subplot2grid',\n",
       " 'subplot_mosaic',\n",
       " 'subplot_tool',\n",
       " 'subplots',\n",
       " 'subplots_adjust',\n",
       " 'summer',\n",
       " 'suptitle',\n",
       " 'switch_backend',\n",
       " 'sys',\n",
       " 'table',\n",
       " 'text',\n",
       " 'thetagrids',\n",
       " 'threading',\n",
       " 'tick_params',\n",
       " 'ticklabel_format',\n",
       " 'tight_layout',\n",
       " 'time',\n",
       " 'title',\n",
       " 'tricontour',\n",
       " 'tricontourf',\n",
       " 'tripcolor',\n",
       " 'triplot',\n",
       " 'twinx',\n",
       " 'twiny',\n",
       " 'uninstall_repl_displayhook',\n",
       " 'violinplot',\n",
       " 'viridis',\n",
       " 'vlines',\n",
       " 'waitforbuttonpress',\n",
       " 'winter',\n",
       " 'xcorr',\n",
       " 'xkcd',\n",
       " 'xlabel',\n",
       " 'xlim',\n",
       " 'xscale',\n",
       " 'xticks',\n",
       " 'ylabel',\n",
       " 'ylim',\n",
       " 'yscale',\n",
       " 'yticks']"
      ]
     },
     "execution_count": 21,
     "metadata": {},
     "output_type": "execute_result"
    }
   ],
   "source": [
    "import matplotlib.pyplot as plt\n",
    "dir(plt)"
   ]
  },
  {
   "cell_type": "code",
   "execution_count": 22,
   "metadata": {},
   "outputs": [
    {
     "data": {
      "text/plain": [
       "['__doc__',\n",
       " '__loader__',\n",
       " '__name__',\n",
       " '__package__',\n",
       " '__spec__',\n",
       " 'acos',\n",
       " 'acosh',\n",
       " 'asin',\n",
       " 'asinh',\n",
       " 'atan',\n",
       " 'atan2',\n",
       " 'atanh',\n",
       " 'cbrt',\n",
       " 'ceil',\n",
       " 'comb',\n",
       " 'copysign',\n",
       " 'cos',\n",
       " 'cosh',\n",
       " 'degrees',\n",
       " 'dist',\n",
       " 'e',\n",
       " 'erf',\n",
       " 'erfc',\n",
       " 'exp',\n",
       " 'exp2',\n",
       " 'expm1',\n",
       " 'fabs',\n",
       " 'factorial',\n",
       " 'floor',\n",
       " 'fmod',\n",
       " 'frexp',\n",
       " 'fsum',\n",
       " 'gamma',\n",
       " 'gcd',\n",
       " 'hypot',\n",
       " 'inf',\n",
       " 'isclose',\n",
       " 'isfinite',\n",
       " 'isinf',\n",
       " 'isnan',\n",
       " 'isqrt',\n",
       " 'lcm',\n",
       " 'ldexp',\n",
       " 'lgamma',\n",
       " 'log',\n",
       " 'log10',\n",
       " 'log1p',\n",
       " 'log2',\n",
       " 'modf',\n",
       " 'nan',\n",
       " 'nextafter',\n",
       " 'perm',\n",
       " 'pi',\n",
       " 'pow',\n",
       " 'prod',\n",
       " 'radians',\n",
       " 'remainder',\n",
       " 'sin',\n",
       " 'sinh',\n",
       " 'sqrt',\n",
       " 'tan',\n",
       " 'tanh',\n",
       " 'tau',\n",
       " 'trunc',\n",
       " 'ulp']"
      ]
     },
     "execution_count": 22,
     "metadata": {},
     "output_type": "execute_result"
    }
   ],
   "source": [
    "import math \n",
    "dir(math)"
   ]
  },
  {
   "cell_type": "code",
   "execution_count": 23,
   "metadata": {},
   "outputs": [],
   "source": [
    "import calendar"
   ]
  },
  {
   "cell_type": "code",
   "execution_count": 24,
   "metadata": {},
   "outputs": [
    {
     "data": {
      "text/plain": [
       "'    January 2015\\nMo Tu We Th Fr Sa Su\\n          1  2  3  4\\n 5  6  7  8  9 10 11\\n12 13 14 15 16 17 18\\n19 20 21 22 23 24 25\\n26 27 28 29 30 31\\n'"
      ]
     },
     "execution_count": 24,
     "metadata": {},
     "output_type": "execute_result"
    }
   ],
   "source": [
    "cal = calendar.month(2015, 1)\n",
    "cal"
   ]
  },
  {
   "cell_type": "markdown",
   "metadata": {},
   "source": [
    "#### We will write two programs,\n",
    "1) To calculate address book and write some records into it.\n",
    "2) Read this address book."
   ]
  },
  {
   "cell_type": "code",
   "execution_count": 25,
   "metadata": {},
   "outputs": [],
   "source": [
    "# Create a dictionary object\n",
    "book = {} # Add in JSON Format\n",
    "book['tom'] = {\n",
    "    'name': 'tom',\n",
    "    'address': '1 red street, NY',\n",
    "    'phone': 9989465486\n",
    "}\n",
    "book['bob'] = {\n",
    "    'name': 'bob',\n",
    "    'address': '1 green street, NY',\n",
    "    'phone': 9989464684\n",
    "}"
   ]
  },
  {
   "cell_type": "code",
   "execution_count": 26,
   "metadata": {},
   "outputs": [],
   "source": [
    "import json"
   ]
  },
  {
   "cell_type": "code",
   "execution_count": 27,
   "metadata": {},
   "outputs": [
    {
     "data": {
      "text/plain": [
       "'{\"tom\": {\"name\": \"tom\", \"address\": \"1 red street, NY\", \"phone\": 9989465486}, \"bob\": {\"name\": \"bob\", \"address\": \"1 green street, NY\", \"phone\": 9989464684}}'"
      ]
     },
     "execution_count": 27,
     "metadata": {},
     "output_type": "execute_result"
    }
   ],
   "source": [
    "s = json.dumps(book) # dumb as a string and convert to JSON format.\n",
    "s"
   ]
  },
  {
   "cell_type": "code",
   "execution_count": 28,
   "metadata": {},
   "outputs": [],
   "source": [
    "# Save this data\n",
    "with open(\"c://Users//shash//Desktop/Repos/data_science//book.txt\",\"w\") as f:\n",
    "    f.write(s)"
   ]
  },
  {
   "cell_type": "code",
   "execution_count": 29,
   "metadata": {},
   "outputs": [
    {
     "data": {
      "text/plain": [
       "'{\"tom\": {\"name\": \"tom\", \"address\": \"1 red street, NY\", \"phone\": 9989465486}, \"bob\": {\"name\": \"bob\", \"address\": \"1 green street, NY\", \"phone\": 9989464684}}'"
      ]
     },
     "execution_count": 29,
     "metadata": {},
     "output_type": "execute_result"
    }
   ],
   "source": [
    "f = open(\"c://Users//shash//Desktop/Repos/data_science//book.txt\",\"r\")\n",
    "s = f.read()\n",
    "s"
   ]
  },
  {
   "cell_type": "code",
   "execution_count": 30,
   "metadata": {},
   "outputs": [
    {
     "data": {
      "text/plain": [
       "<function json.loads(s, *, cls=None, object_hook=None, parse_float=None, parse_int=None, parse_constant=None, object_pairs_hook=None, **kw)>"
      ]
     },
     "execution_count": 30,
     "metadata": {},
     "output_type": "execute_result"
    }
   ],
   "source": [
    "json.loads # import as string"
   ]
  },
  {
   "cell_type": "code",
   "execution_count": 31,
   "metadata": {},
   "outputs": [
    {
     "data": {
      "text/plain": [
       "str"
      ]
     },
     "execution_count": 31,
     "metadata": {},
     "output_type": "execute_result"
    }
   ],
   "source": [
    "type(s)"
   ]
  },
  {
   "cell_type": "code",
   "execution_count": 32,
   "metadata": {},
   "outputs": [
    {
     "data": {
      "text/plain": [
       "{'tom': {'name': 'tom', 'address': '1 red street, NY', 'phone': 9989465486},\n",
       " 'bob': {'name': 'bob', 'address': '1 green street, NY', 'phone': 9989464684}}"
      ]
     },
     "execution_count": 32,
     "metadata": {},
     "output_type": "execute_result"
    }
   ],
   "source": [
    "book = json.loads(s)\n",
    "book"
   ]
  },
  {
   "cell_type": "code",
   "execution_count": 33,
   "metadata": {},
   "outputs": [
    {
     "data": {
      "text/plain": [
       "dict"
      ]
     },
     "execution_count": 33,
     "metadata": {},
     "output_type": "execute_result"
    }
   ],
   "source": [
    "type(book)"
   ]
  },
  {
   "cell_type": "code",
   "execution_count": 34,
   "metadata": {},
   "outputs": [
    {
     "data": {
      "text/plain": [
       "{'name': 'bob', 'address': '1 green street, NY', 'phone': 9989464684}"
      ]
     },
     "execution_count": 34,
     "metadata": {},
     "output_type": "execute_result"
    }
   ],
   "source": [
    "book['bob']"
   ]
  },
  {
   "cell_type": "code",
   "execution_count": 35,
   "metadata": {},
   "outputs": [
    {
     "data": {
      "text/plain": [
       "9989464684"
      ]
     },
     "execution_count": 35,
     "metadata": {},
     "output_type": "execute_result"
    }
   ],
   "source": [
    "book['bob']['phone']"
   ]
  },
  {
   "cell_type": "markdown",
   "metadata": {},
   "source": [
    "### Reading and Writing files"
   ]
  },
  {
   "cell_type": "code",
   "execution_count": 36,
   "metadata": {},
   "outputs": [],
   "source": [
    "f = open(\"C://Users/shash/Desktop/Repos/data_science/funny.txt\", \"w\")\n",
    "f.write(\"I love Python\")\n",
    "f.close() # use 'a' as for apend in place of 'w' to add new line.\n",
    "# don't forget to put \\n as to add text to new line.\n",
    "# f.close() will clean any resources the program is taking"
   ]
  },
  {
   "cell_type": "markdown",
   "metadata": {},
   "source": [
    "### Ques. We want to create new file that has all lines in funny.txt plus word count for each line."
   ]
  },
  {
   "cell_type": "code",
   "execution_count": 37,
   "metadata": {},
   "outputs": [
    {
     "data": {
      "text/plain": [
       "'I love Python'"
      ]
     },
     "execution_count": 37,
     "metadata": {},
     "output_type": "execute_result"
    }
   ],
   "source": [
    "f = open(\"C://Users/shash/Desktop/Repos/data_science/funny.txt\", \"r\")\n",
    "f.read()"
   ]
  },
  {
   "cell_type": "code",
   "execution_count": 38,
   "metadata": {},
   "outputs": [
    {
     "name": "stdout",
     "output_type": "stream",
     "text": [
      "\n"
     ]
    }
   ],
   "source": [
    "print(f.read())"
   ]
  },
  {
   "cell_type": "code",
   "execution_count": 39,
   "metadata": {},
   "outputs": [],
   "source": [
    "# Use for-loop to go line by line\n",
    "for line in f:\n",
    "    tokens = line.split(' ') # split the word separated by space. So that It is removed from the counting.\n",
    "    # split command will return a list(array) of words\n",
    "    print(tokens)"
   ]
  },
  {
   "cell_type": "code",
   "execution_count": 48,
   "metadata": {},
   "outputs": [
    {
     "name": "stdout",
     "output_type": "stream",
     "text": [
      "6\n",
      "5\n",
      "3\n",
      "8\n"
     ]
    }
   ],
   "source": [
    "# After split operation put the word count ahead of the lines You have added\n",
    "f = open(\"C://Users/shash/Desktop/Repos/data_science/funny.txt\", \"r\")\n",
    "f_out = open(\"C://Users/shash/Desktop/Repos/data_science/funny_wc.txt\", \"w\") # Open(create if necessary) and Read the file\n",
    "for line in f:\n",
    "    tokens = line.split(' ') # split and remove the spaces for counting.\n",
    "    f_out.write(line+\" wordcount:\" + str(len(tokens)) + \"\\n\")\n",
    "    print(len(tokens))\n",
    "f.close()"
   ]
  },
  {
   "cell_type": "markdown",
   "metadata": {},
   "source": [
    "### File Opening Modes\n",
    "- 'r': Read (default mode). Opens the file for reading. Raises an error if the file does not exist.\n",
    "\n",
    "- 'w': Write. Opens the file for writing. If the file already exists, it truncates the file to zero length. If the file does not exist, it creates a new file.\n",
    "\n",
    "- 'a': Append. Opens the file for writing, but if the file already exists, it appends new data to the end of the file rather than truncating it.\n",
    "\n",
    "- 'b': Binary mode. This can be added to any of the above modes to indicate that the file should be treated as a binary file. For example, 'rb' or 'wb'.\n",
    "\n",
    "- 'x': Exclusive creation. Creates a new file, but raises an error if the file already exists.\n",
    "\n",
    "- 't': Text mode (default). This is used to indicate that the file should be treated as a text file. It is often used in combination with other modes, like 'rt' or 'wt'.\n",
    "\n",
    "- '+': Read and Write. Opens the file for both reading and writing."
   ]
  },
  {
   "cell_type": "markdown",
   "metadata": {},
   "source": [
    "### With open\n",
    "#### Using the with open statement in Python is a recommended practice when working with files. It provides a convenient way to ensure that the file is properly closed after operations are performed, even if an exception occurs during the code execution. The with statement is used as a context manager, and it automatically takes care of resource management.\n",
    "\n",
    "- Automatic Cleanup: The with statement automatically closes the file when the code block is exited, whether the block is exited normally or due to an exception. This helps in avoiding resource leaks and ensures that the file is closed properly.\n",
    "\n",
    "a. Example without with:\n",
    "```\n",
    "file = open('example.txt', 'r')\n",
    "perform operations on the file\n",
    "file.close()  # explicitly close the file\n",
    "``` \n",
    "b. Example with `with`:\n",
    "```\n",
    "# The file is automatically closed when the block is exited\n",
    "with open('example.txt', 'r') as file:\n",
    "    # perform operations on the file\n",
    "```\n",
    "```\n",
    "with open (\"Path\", \"r\") as f:\n",
    "    print(f.read())\n",
    "print(f.closed) # Tell you if the file is closed or still open.\n",
    "```\n",
    "\n",
    "Simplified Code: Using with simplifies the code and makes it more readable by reducing the need for explicit calls to close(). It also makes the code less prone to errors related to forgetting to close the file.\n",
    "\n",
    "Exception Handling: If an exception occurs within the with block, the with statement ensures that the file is closed before the exception is propagated. This is crucial for maintaining data integrity and preventing potential issues.\n",
    "\n",
    "In summary, using ``with open`` is a best practice in Python for file handling as it promotes clean and concise code, helps avoid common mistakes related to file handling, and ensures proper resource management.\n"
   ]
  },
  {
   "cell_type": "markdown",
   "metadata": {},
   "source": [
    "### Sample Exercise:\n",
    "1. File input.txt contains numbers separated by comma as shown below:<br>\n",
    "6,8<br>\n",
    "7,6<br>\n",
    "2,8<br>\n",
    "9,5<br>\n",
    "9,6<br>\n",
    "\n",
    "(1) Write a function countNum(num) so that it returns number of occurences of a number in that file e.g.,<br>\n",
    "countNum(9) should return 2<br>\n",
    "countNum(100) should return 0<br>\n",
    "\n",
    "\n",
    "2. Change input.tx so that when program ends it contains sum of all numbers in a line as shown below,<br>\n",
    "sum: 14 | 6, 8 <br>\n",
    "sum: 13 | 7, 6 <br>\n",
    "etc."
   ]
  },
  {
   "cell_type": "code",
   "execution_count": 111,
   "metadata": {},
   "outputs": [
    {
     "name": "stdout",
     "output_type": "stream",
     "text": [
      "[6, 8, 7, 6, 2, 8, 9, 5, 9, 6]\n"
     ]
    }
   ],
   "source": [
    "def countNum():\n",
    "    try:\n",
    "        # Read the content of the file\n",
    "        with open(\"C://Users/shash/Desktop/Repos/data_science/input.txt\", 'r') as file:\n",
    "            content = file.readlines()\n",
    "\n",
    "        # Flatten the list of numbers and convert them to integers\n",
    "        numbers = [int(num) for line in content for num in line.strip().split(',')]\n",
    "        print(numbers)\n",
    "    except FileNotFoundError:\n",
    "        print(f\"Error: File '{filename}' not found.\")\n",
    "        return 0\n",
    "countNum()\n"
   ]
  },
  {
   "cell_type": "code",
   "execution_count": 117,
   "metadata": {},
   "outputs": [
    {
     "name": "stdout",
     "output_type": "stream",
     "text": [
      "4\n"
     ]
    }
   ],
   "source": [
    "b = 2\n",
    "a = b**2\n",
    "print(a)"
   ]
  }
 ],
 "metadata": {
  "kernelspec": {
   "display_name": "Python 3",
   "language": "python",
   "name": "python3"
  },
  "language_info": {
   "codemirror_mode": {
    "name": "ipython",
    "version": 3
   },
   "file_extension": ".py",
   "mimetype": "text/x-python",
   "name": "python",
   "nbconvert_exporter": "python",
   "pygments_lexer": "ipython3",
   "version": "3.11.6"
  }
 },
 "nbformat": 4,
 "nbformat_minor": 2
}
