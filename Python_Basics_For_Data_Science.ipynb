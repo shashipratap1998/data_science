{
 "cells": [
  {
   "cell_type": "code",
   "execution_count": 1,
   "metadata": {},
   "outputs": [
    {
     "name": "stdout",
     "output_type": "stream",
     "text": [
      "Hello World\n"
     ]
    }
   ],
   "source": [
    "print('Hello World')"
   ]
  },
  {
   "cell_type": "code",
   "execution_count": 2,
   "metadata": {},
   "outputs": [
    {
     "name": "stdout",
     "output_type": "stream",
     "text": [
      "1708.1\n"
     ]
    }
   ],
   "source": [
    "# Variables\n",
    "rent = 1200\n",
    "gas = 202.5\n",
    "groceries = 305.6\n",
    "total = rent+gas+groceries\n",
    "print(total)"
   ]
  },
  {
   "cell_type": "code",
   "execution_count": 3,
   "metadata": {},
   "outputs": [
    {
     "data": {
      "text/plain": [
       "'r'"
      ]
     },
     "execution_count": 3,
     "metadata": {},
     "output_type": "execute_result"
    }
   ],
   "source": [
    "# strings\n",
    "text = \"ice cream\"\n",
    "text[5]"
   ]
  },
  {
   "cell_type": "code",
   "execution_count": 1,
   "metadata": {},
   "outputs": [
    {
     "data": {
      "text/plain": [
       "['bread', 'pasta', 'fruits', 'veggies']"
      ]
     },
     "execution_count": 1,
     "metadata": {},
     "output_type": "execute_result"
    }
   ],
   "source": [
    "# Lists\n",
    "items = [\"bread\", \"pasta\", \"fruits\", \"veggies\"]\n",
    "items"
   ]
  },
  {
   "cell_type": "code",
   "execution_count": 2,
   "metadata": {},
   "outputs": [
    {
     "data": {
      "text/plain": [
       "['chips', 'pasta', 'fruits', 'veggies']"
      ]
     },
     "execution_count": 2,
     "metadata": {},
     "output_type": "execute_result"
    }
   ],
   "source": [
    "items[0]=\"chips\"\n",
    "items"
   ]
  },
  {
   "cell_type": "code",
   "execution_count": 4,
   "metadata": {},
   "outputs": [
    {
     "data": {
      "text/plain": [
       "['bread', 'butter', 'pasta', 'fruits', 'veggies']"
      ]
     },
     "execution_count": 4,
     "metadata": {},
     "output_type": "execute_result"
    }
   ],
   "source": [
    "items = [\"bread\", \"pasta\", \"fruits\", \"veggies\"]\n",
    "items.insert(1,\"butter\")\n",
    "items"
   ]
  },
  {
   "cell_type": "code",
   "execution_count": 5,
   "metadata": {},
   "outputs": [
    {
     "data": {
      "text/plain": [
       "['shampoo', 'soap']"
      ]
     },
     "execution_count": 5,
     "metadata": {},
     "output_type": "execute_result"
    }
   ],
   "source": [
    "bathroom = [\"shampoo\", \"soap\"]\n",
    "bathroom"
   ]
  },
  {
   "cell_type": "code",
   "execution_count": 6,
   "metadata": {},
   "outputs": [
    {
     "data": {
      "text/plain": [
       "['shampoo', 'soap', 'bread', 'butter', 'pasta', 'fruits', 'veggies']"
      ]
     },
     "execution_count": 6,
     "metadata": {},
     "output_type": "execute_result"
    }
   ],
   "source": [
    "all_items = bathroom + items\n",
    "all_items"
   ]
  },
  {
   "cell_type": "code",
   "execution_count": 7,
   "metadata": {},
   "outputs": [
    {
     "data": {
      "text/plain": [
       "True"
      ]
     },
     "execution_count": 7,
     "metadata": {},
     "output_type": "execute_result"
    }
   ],
   "source": [
    "\"bread\" in items # Use 'in' for boolean output"
   ]
  },
  {
   "cell_type": "code",
   "execution_count": 1,
   "metadata": {},
   "outputs": [
    {
     "name": "stdout",
     "output_type": "stream",
     "text": [
      "Hello World!\n"
     ]
    }
   ],
   "source": [
    "print(\"Hello World!\")"
   ]
  },
  {
   "cell_type": "code",
   "execution_count": null,
   "metadata": {},
   "outputs": [],
   "source": [
    "# If Statements\n",
    "num = int(input(\"Enter a number: \"))\n",
    "if num%2 == 0:\n",
    "    print(\"number is even\")\n",
    "else:\n",
    "    print(\"number is odd\")\n"
   ]
  },
  {
   "cell_type": "markdown",
   "metadata": {},
   "source": [
    "### Ques. Write a program that asks user to enter dish name and it should print which cuisine is that dish."
   ]
  },
  {
   "cell_type": "code",
   "execution_count": 18,
   "metadata": {},
   "outputs": [
    {
     "name": "stdout",
     "output_type": "stream",
     "text": [
      "['Sushi', 'Sake', 'Hamburgurger', 'Pizza', 'Dal Fry', 'Butter Paneer Masala']\n",
      "The dish is of Indian Cuisine\n"
     ]
    }
   ],
   "source": [
    "Japanese = [\"Sushi\", \"Sake\"]\n",
    "Indian = [\"Dal Fry\", \"Butter Paneer Masala\"]\n",
    "American = [\"Hamburgurger\", \"Pizza\"]\n",
    "print(Japanese + American + Indian)\n",
    "dish = input(\"Enter the name of the dish: \")# Takes the input as the name of the dish\n",
    "if dish in Japanese:\n",
    "    print(\"The dish is Japanese\")\n",
    "elif dish in Indian:\n",
    "    print(\"The dish is of Indian Cuisine\")\n",
    "else:\n",
    "    print(\"The dish is American\")"
   ]
  },
  {
   "cell_type": "code",
   "execution_count": 19,
   "metadata": {},
   "outputs": [
    {
     "name": "stdout",
     "output_type": "stream",
     "text": [
      "13020\n"
     ]
    }
   ],
   "source": [
    "# For Loop\n",
    "exp = [2340, 2500, 2100, 3100, 2980]\n",
    "total = 0\n",
    "for item in exp:\n",
    "    total = total + item\n",
    "print(total)"
   ]
  },
  {
   "cell_type": "code",
   "execution_count": 20,
   "metadata": {},
   "outputs": [
    {
     "name": "stdout",
     "output_type": "stream",
     "text": [
      "1\n",
      "3\n",
      "5\n",
      "7\n",
      "9\n"
     ]
    }
   ],
   "source": [
    "for i in range(1, 11, 2):\n",
    "    print(i)"
   ]
  },
  {
   "cell_type": "code",
   "execution_count": null,
   "metadata": {},
   "outputs": [
    {
     "name": "stdout",
     "output_type": "stream",
     "text": [
      "Month:  1 Expense: 2340\n",
      "Month:  2 Expense: 2500\n",
      "Month:  3 Expense: 2100\n",
      "Month:  4 Expense: 3100\n",
      "Month:  5 Expense: 2980\n",
      "Total expense is:  13020\n"
     ]
    }
   ],
   "source": [
    "exp = [2340, 2500, 2100, 3100, 2980]\n",
    "total = 0\n",
    "for i in range(len(exp)):\n",
    "    print(\"Month: \", i+1, \"Expense:\", exp[i])\n",
    "    total = total + exp[i]\n",
    "print(\"Total expense is: \", total)\n",
    "    "
   ]
  },
  {
   "cell_type": "markdown",
   "metadata": {},
   "source": [
    "### Ques. Search for lost car key in home and when found stop searching."
   ]
  },
  {
   "cell_type": "code",
   "execution_count": 36,
   "metadata": {},
   "outputs": [
    {
     "name": "stdout",
     "output_type": "stream",
     "text": [
      "key is not found in garage\n",
      "key is not found in living room\n",
      "key is found in, chair\n"
     ]
    }
   ],
   "source": [
    "place = \"chair\"\n",
    "locations = [\"garage\", \"living room\", \"chair\", \"closet\"]\n",
    "for i in locations:\n",
    "    if i == place:\n",
    "        print(\"key is found in,\", i)\n",
    "        break\n",
    "    else:\n",
    "        print(\"key is not found in\", i)\n",
    "\n"
   ]
  },
  {
   "cell_type": "code",
   "execution_count": 38,
   "metadata": {},
   "outputs": [
    {
     "name": "stdout",
     "output_type": "stream",
     "text": [
      "1\n",
      "9\n",
      "25\n"
     ]
    }
   ],
   "source": [
    "for i in range(1,6):\n",
    "    if i%2==0:\n",
    "        continue\n",
    "    print(i*i)"
   ]
  }
 ],
 "metadata": {
  "kernelspec": {
   "display_name": "Python 3",
   "language": "python",
   "name": "python3"
  },
  "language_info": {
   "codemirror_mode": {
    "name": "ipython",
    "version": 3
   },
   "file_extension": ".py",
   "mimetype": "text/x-python",
   "name": "python",
   "nbconvert_exporter": "python",
   "pygments_lexer": "ipython3",
   "version": "3.10.12"
  }
 },
 "nbformat": 4,
 "nbformat_minor": 2
}
